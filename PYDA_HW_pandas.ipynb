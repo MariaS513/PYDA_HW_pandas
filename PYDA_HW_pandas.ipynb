{
 "cells": [
  {
   "cell_type": "code",
   "execution_count": 1,
   "metadata": {},
   "outputs": [],
   "source": [
    "import pandas as pd"
   ]
  },
  {
   "cell_type": "markdown",
   "metadata": {},
   "source": [
    "# Задание 1\n",
    "Скачайте с сайта https://grouplens.org/datasets/movielens/ датасет любого размера. Определите какому фильму было выставлено больше всего оценок 5.0."
   ]
  },
  {
   "cell_type": "code",
   "execution_count": 3,
   "metadata": {},
   "outputs": [],
   "source": [
    "ratings = pd.read_csv('ratings.csv')\n",
    "movies = pd.read_csv('movies.csv')"
   ]
  },
  {
   "cell_type": "code",
   "execution_count": 4,
   "metadata": {},
   "outputs": [
    {
     "data": {
      "text/plain": [
       "Shawshank Redemption, The (1994)    153\n",
       "Name: title, dtype: int64"
      ]
     },
     "execution_count": 4,
     "metadata": {},
     "output_type": "execute_result"
    }
   ],
   "source": [
    "merged = ratings.merge(movies, on='movieId', how='left')\n",
    "merged[merged.rating == 5.0]['title'].value_counts().head(1)"
   ]
  },
  {
   "cell_type": "markdown",
   "metadata": {},
   "source": [
    "# Задание 2\n",
    "По данным файла power.csv посчитайте суммарное потребление стран Прибалтики (Латвия, Литва и Эстония) категорий 4, 12 и 21 за период с 2005 по 2010 года. Не учитывайте в расчетах отрицательные значения quantity."
   ]
  },
  {
   "cell_type": "code",
   "execution_count": 6,
   "metadata": {},
   "outputs": [],
   "source": [
    "power = pd.read_csv('power.csv')"
   ]
  },
  {
   "cell_type": "code",
   "execution_count": 7,
   "metadata": {},
   "outputs": [
    {
     "data": {
      "text/plain": [
       "240580.0"
      ]
     },
     "execution_count": 7,
     "metadata": {},
     "output_type": "execute_result"
    }
   ],
   "source": [
    "sum(power[\n",
    "    ((power.country=='Latvia')|(power.country=='Lithuania')|(power.country=='Estonia'))&\n",
    "    ((power.category==4)|(power.category==12)|(power.category==21))&\n",
    "    ((power.year>=2005)&(power.year<=2010))&\n",
    "    (power.quantity > 0)\n",
    "]['quantity'])"
   ]
  },
  {
   "cell_type": "markdown",
   "metadata": {},
   "source": [
    "# Задание 3\n",
    "Выберите страницу любого сайта с табличными данными. Импортируйте таблицы в pandas dataframe.\n",
    "Примеры страниц (необязательно брать именно эти):\n",
    "https://fortrader.org/quotes\n",
    "https://www.finanz.ru/valyuty/v-realnom-vremeni"
   ]
  },
  {
   "cell_type": "code",
   "execution_count": 8,
   "metadata": {},
   "outputs": [],
   "source": [
    "site_tables = pd.read_html('https://fortrader.org/quotes')"
   ]
  },
  {
   "cell_type": "code",
   "execution_count": 9,
   "metadata": {},
   "outputs": [
    {
     "data": {
      "text/html": [
       "<div>\n",
       "<style scoped>\n",
       "    .dataframe tbody tr th:only-of-type {\n",
       "        vertical-align: middle;\n",
       "    }\n",
       "\n",
       "    .dataframe tbody tr th {\n",
       "        vertical-align: top;\n",
       "    }\n",
       "\n",
       "    .dataframe thead th {\n",
       "        text-align: right;\n",
       "    }\n",
       "</style>\n",
       "<table border=\"1\" class=\"dataframe\">\n",
       "  <thead>\n",
       "    <tr style=\"text-align: right;\">\n",
       "      <th></th>\n",
       "      <th>Type</th>\n",
       "      <th>Last</th>\n",
       "      <th>Chg.</th>\n",
       "      <th>Chg.%</th>\n",
       "      <th>Time</th>\n",
       "    </tr>\n",
       "  </thead>\n",
       "  <tbody>\n",
       "    <tr>\n",
       "      <td>0</td>\n",
       "      <td>ВТБ Акции ВТБ</td>\n",
       "      <td>0.04646</td>\n",
       "      <td>+0.000270</td>\n",
       "      <td>0.584542</td>\n",
       "      <td>NaN</td>\n",
       "    </tr>\n",
       "    <tr>\n",
       "      <td>1</td>\n",
       "      <td>Газпром Акции газпрома</td>\n",
       "      <td>226.60000</td>\n",
       "      <td>-1.43</td>\n",
       "      <td>-0.630000</td>\n",
       "      <td>NaN</td>\n",
       "    </tr>\n",
       "    <tr>\n",
       "      <td>2</td>\n",
       "      <td>Лукойл Акции Лукойл</td>\n",
       "      <td>6561.00000</td>\n",
       "      <td>-11.0</td>\n",
       "      <td>-0.200000</td>\n",
       "      <td>NaN</td>\n",
       "    </tr>\n",
       "    <tr>\n",
       "      <td>3</td>\n",
       "      <td>Роснефть Акции Роснефти</td>\n",
       "      <td>479.80000</td>\n",
       "      <td>-1.05</td>\n",
       "      <td>-0.220000</td>\n",
       "      <td>NaN</td>\n",
       "    </tr>\n",
       "    <tr>\n",
       "      <td>4</td>\n",
       "      <td>Сбербанк Акции Сбербанка</td>\n",
       "      <td>252.40000</td>\n",
       "      <td>-2.05</td>\n",
       "      <td>-0.810000</td>\n",
       "      <td>NaN</td>\n",
       "    </tr>\n",
       "    <tr>\n",
       "      <td>5</td>\n",
       "      <td>Сургутнефтегаз Акции Сургутнефтегаза</td>\n",
       "      <td>46.22500</td>\n",
       "      <td>+1.715</td>\n",
       "      <td>3.853000</td>\n",
       "      <td>NaN</td>\n",
       "    </tr>\n",
       "    <tr>\n",
       "      <td>6</td>\n",
       "      <td>Норникель Акции Норникель</td>\n",
       "      <td>20766.00000</td>\n",
       "      <td>+333</td>\n",
       "      <td>2.000000</td>\n",
       "      <td>NaN</td>\n",
       "    </tr>\n",
       "    <tr>\n",
       "      <td>7</td>\n",
       "      <td>Аэрофлот Акции Аерофлота</td>\n",
       "      <td>107.44000</td>\n",
       "      <td>-2.36</td>\n",
       "      <td>-2.150000</td>\n",
       "      <td>NaN</td>\n",
       "    </tr>\n",
       "    <tr>\n",
       "      <td>8</td>\n",
       "      <td>Северсталь Акции Северсталь</td>\n",
       "      <td>913.80000</td>\n",
       "      <td>+6.80</td>\n",
       "      <td>0.750000</td>\n",
       "      <td>NaN</td>\n",
       "    </tr>\n",
       "    <tr>\n",
       "      <td>9</td>\n",
       "      <td>Транснефть Акции транснефти</td>\n",
       "      <td>164950.00000</td>\n",
       "      <td>-1 350</td>\n",
       "      <td>-1.000000</td>\n",
       "      <td>NaN</td>\n",
       "    </tr>\n",
       "    <tr>\n",
       "      <td>10</td>\n",
       "      <td>Ростелеком Курс акций ростелекома</td>\n",
       "      <td>88.05000</td>\n",
       "      <td>+15.22</td>\n",
       "      <td>20.900000</td>\n",
       "      <td>NaN</td>\n",
       "    </tr>\n",
       "    <tr>\n",
       "      <td>11</td>\n",
       "      <td>RUSAL акции RUSAL</td>\n",
       "      <td>4.23000</td>\n",
       "      <td>+0.07</td>\n",
       "      <td>1.680000</td>\n",
       "      <td>NaN</td>\n",
       "    </tr>\n",
       "  </tbody>\n",
       "</table>\n",
       "</div>"
      ],
      "text/plain": [
       "                                    Type          Last       Chg.      Chg.%  \\\n",
       "0                          ВТБ Акции ВТБ       0.04646  +0.000270   0.584542   \n",
       "1                 Газпром Акции газпрома     226.60000      -1.43  -0.630000   \n",
       "2                    Лукойл Акции Лукойл    6561.00000      -11.0  -0.200000   \n",
       "3                Роснефть Акции Роснефти     479.80000      -1.05  -0.220000   \n",
       "4               Сбербанк Акции Сбербанка     252.40000      -2.05  -0.810000   \n",
       "5   Сургутнефтегаз Акции Сургутнефтегаза      46.22500     +1.715   3.853000   \n",
       "6              Норникель Акции Норникель   20766.00000       +333   2.000000   \n",
       "7               Аэрофлот Акции Аерофлота     107.44000      -2.36  -2.150000   \n",
       "8            Северсталь Акции Северсталь     913.80000      +6.80   0.750000   \n",
       "9            Транснефть Акции транснефти  164950.00000     -1 350  -1.000000   \n",
       "10     Ростелеком Курс акций ростелекома      88.05000     +15.22  20.900000   \n",
       "11                     RUSAL акции RUSAL       4.23000      +0.07   1.680000   \n",
       "\n",
       "    Time  \n",
       "0    NaN  \n",
       "1    NaN  \n",
       "2    NaN  \n",
       "3    NaN  \n",
       "4    NaN  \n",
       "5    NaN  \n",
       "6    NaN  \n",
       "7    NaN  \n",
       "8    NaN  \n",
       "9    NaN  \n",
       "10   NaN  \n",
       "11   NaN  "
      ]
     },
     "execution_count": 9,
     "metadata": {},
     "output_type": "execute_result"
    }
   ],
   "source": [
    "site_tables[1]"
   ]
  },
  {
   "cell_type": "code",
   "execution_count": null,
   "metadata": {},
   "outputs": [],
   "source": []
  }
 ],
 "metadata": {
  "kernelspec": {
   "display_name": "Python 3",
   "language": "python",
   "name": "python3"
  },
  "language_info": {
   "codemirror_mode": {
    "name": "ipython",
    "version": 3
   },
   "file_extension": ".py",
   "mimetype": "text/x-python",
   "name": "python",
   "nbconvert_exporter": "python",
   "pygments_lexer": "ipython3",
   "version": "3.7.4"
  }
 },
 "nbformat": 4,
 "nbformat_minor": 2
}
